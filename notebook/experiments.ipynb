{
 "cells": [
  {
   "cell_type": "code",
   "execution_count": null,
   "id": "1f96dc8c",
   "metadata": {},
   "outputs": [],
   "source": [
    "### "
   ]
  },
  {
   "cell_type": "code",
   "execution_count": 2,
   "id": "6d603285",
   "metadata": {},
   "outputs": [],
   "source": [
    "import sys"
   ]
  },
  {
   "cell_type": "code",
   "execution_count": 3,
   "id": "885e8aff",
   "metadata": {},
   "outputs": [],
   "source": [
    "class TradingBotException(Exception):\n",
    "    def __init__(self):\n",
    "        print(\"this message from init\")\n",
    "        \n",
    "    def __str__(self):\n",
    "        print(\"this message from str\")\n",
    "        return \"\"\n",
    "        \n",
    "    def __repr__(self):\n",
    "        print(\"this message from repr\")\n",
    "        return \"\"\n"
   ]
  },
  {
   "cell_type": "code",
   "execution_count": 4,
   "id": "b8f4746a",
   "metadata": {},
   "outputs": [
    {
     "name": "stdout",
     "output_type": "stream",
     "text": [
      "this message from init\n"
     ]
    }
   ],
   "source": [
    "obj = TradingBotException()"
   ]
  },
  {
   "cell_type": "code",
   "execution_count": 5,
   "id": "23f15b18",
   "metadata": {},
   "outputs": [
    {
     "name": "stdout",
     "output_type": "stream",
     "text": [
      "this message from str\n",
      "\n"
     ]
    }
   ],
   "source": [
    "print(obj)"
   ]
  },
  {
   "cell_type": "code",
   "execution_count": 7,
   "id": "313a7339",
   "metadata": {},
   "outputs": [
    {
     "name": "stdout",
     "output_type": "stream",
     "text": [
      "this message from repr\n"
     ]
    },
    {
     "data": {
      "text/plain": []
     },
     "execution_count": 7,
     "metadata": {},
     "output_type": "execute_result"
    }
   ],
   "source": [
    "obj"
   ]
  },
  {
   "cell_type": "code",
   "execution_count": null,
   "id": "39de0b8c",
   "metadata": {},
   "outputs": [],
   "source": [
    "class TradingBotException(Exception):\n",
    "    def __init__(self,error_message,error_details_using_sys:sys):\n",
    "        \n",
    "        self.error_message = error_message\n",
    "        _,_,exc_tb = error_details_using_sys.exc_info()\n",
    "        \n",
    "        self.lineno = exc_tb.tb_lineno\n",
    "        self.file_name = exc_tb.tb_frame.f_code.co_filename \n",
    "    \n",
    "    def __str__(self):\n",
    "        return \"Error occured in python script name [{0}] line number [{1}] error message [{2}]\".format(\n",
    "        self.file_name, self.lineno, str(self.error_message))"
   ]
  },
  {
   "cell_type": "code",
   "execution_count": 10,
   "id": "98b21b77",
   "metadata": {},
   "outputs": [],
   "source": [
    "def test(message):\n",
    "    print(\"add\"+message)\n",
    "    print(sys.exc_info())\n",
    "    #print(sys.exc_info())"
   ]
  },
  {
   "cell_type": "code",
   "execution_count": 11,
   "id": "2147bc3e",
   "metadata": {},
   "outputs": [
    {
     "name": "stdout",
     "output_type": "stream",
     "text": [
      "addhi hi hi\n",
      "(None, None, None)\n"
     ]
    }
   ],
   "source": [
    "test(\"hi hi hi\")"
   ]
  },
  {
   "cell_type": "code",
   "execution_count": 12,
   "id": "e7cf2ab9",
   "metadata": {},
   "outputs": [
    {
     "ename": "TradingBotException",
     "evalue": "Error occured in python script name [C:\\Users\\Mohan\\AppData\\Local\\Temp\\ipykernel_19088\\638354084.py] line number [2] error message [can only concatenate str (not \"int\") to str]",
     "output_type": "error",
     "traceback": [
      "\u001b[31m---------------------------------------------------------------------------\u001b[39m",
      "\u001b[31mTypeError\u001b[39m                                 Traceback (most recent call last)",
      "\u001b[36mCell\u001b[39m\u001b[36m \u001b[39m\u001b[32mIn[12]\u001b[39m\u001b[32m, line 2\u001b[39m\n\u001b[32m      1\u001b[39m \u001b[38;5;28;01mtry\u001b[39;00m:\n\u001b[32m----> \u001b[39m\u001b[32m2\u001b[39m     \u001b[43mtest\u001b[49m\u001b[43m(\u001b[49m\u001b[32;43m2\u001b[39;49m\u001b[43m)\u001b[49m\n\u001b[32m      3\u001b[39m \u001b[38;5;28;01mexcept\u001b[39;00m \u001b[38;5;167;01mException\u001b[39;00m \u001b[38;5;28;01mas\u001b[39;00m e:\n",
      "\u001b[36mCell\u001b[39m\u001b[36m \u001b[39m\u001b[32mIn[10]\u001b[39m\u001b[32m, line 2\u001b[39m, in \u001b[36mtest\u001b[39m\u001b[34m(message)\u001b[39m\n\u001b[32m      1\u001b[39m \u001b[38;5;28;01mdef\u001b[39;00m\u001b[38;5;250m \u001b[39m\u001b[34mtest\u001b[39m(message):\n\u001b[32m----> \u001b[39m\u001b[32m2\u001b[39m     \u001b[38;5;28mprint\u001b[39m(\u001b[33;43m\"\u001b[39;49m\u001b[33;43madd\u001b[39;49m\u001b[33;43m\"\u001b[39;49m\u001b[43m+\u001b[49m\u001b[43mmessage\u001b[49m)\n\u001b[32m      3\u001b[39m     \u001b[38;5;28mprint\u001b[39m(sys.exc_info())\n",
      "\u001b[31mTypeError\u001b[39m: can only concatenate str (not \"int\") to str",
      "\nDuring handling of the above exception, another exception occurred:\n",
      "\u001b[31mTradingBotException\u001b[39m                       Traceback (most recent call last)",
      "\u001b[36mCell\u001b[39m\u001b[36m \u001b[39m\u001b[32mIn[12]\u001b[39m\u001b[32m, line 4\u001b[39m\n\u001b[32m      2\u001b[39m     test(\u001b[32m2\u001b[39m)\n\u001b[32m      3\u001b[39m \u001b[38;5;28;01mexcept\u001b[39;00m \u001b[38;5;167;01mException\u001b[39;00m \u001b[38;5;28;01mas\u001b[39;00m e:\n\u001b[32m----> \u001b[39m\u001b[32m4\u001b[39m     \u001b[38;5;28;01mraise\u001b[39;00m TradingBotException(e,sys)\n",
      "\u001b[31mTradingBotException\u001b[39m: Error occured in python script name [C:\\Users\\Mohan\\AppData\\Local\\Temp\\ipykernel_19088\\638354084.py] line number [2] error message [can only concatenate str (not \"int\") to str]"
     ]
    }
   ],
   "source": [
    "try:\n",
    "    test(2)\n",
    "except Exception as e:\n",
    "    raise TradingBotException(e,sys)"
   ]
  },
  {
   "cell_type": "code",
   "execution_count": 13,
   "id": "b2612486",
   "metadata": {},
   "outputs": [
    {
     "ename": "TradingBotException",
     "evalue": "Error occured in python script name [C:\\Users\\Mohan\\AppData\\Local\\Temp\\ipykernel_19088\\3076653162.py] line number [2] error message [division by zero]",
     "output_type": "error",
     "traceback": [
      "\u001b[31m---------------------------------------------------------------------------\u001b[39m",
      "\u001b[31mZeroDivisionError\u001b[39m                         Traceback (most recent call last)",
      "\u001b[36mCell\u001b[39m\u001b[36m \u001b[39m\u001b[32mIn[13]\u001b[39m\u001b[32m, line 2\u001b[39m\n\u001b[32m      1\u001b[39m \u001b[38;5;28;01mtry\u001b[39;00m:\n\u001b[32m----> \u001b[39m\u001b[32m2\u001b[39m     a=\u001b[32;43m1\u001b[39;49m\u001b[43m/\u001b[49m\u001b[32;43m0\u001b[39;49m\n\u001b[32m      3\u001b[39m     \u001b[38;5;28mprint\u001b[39m(\u001b[33m\"\u001b[39m\u001b[33mThis will not be printed\u001b[39m\u001b[33m\"\u001b[39m,a)\n",
      "\u001b[31mZeroDivisionError\u001b[39m: division by zero",
      "\nDuring handling of the above exception, another exception occurred:\n",
      "\u001b[31mTradingBotException\u001b[39m                       Traceback (most recent call last)",
      "\u001b[36mCell\u001b[39m\u001b[36m \u001b[39m\u001b[32mIn[13]\u001b[39m\u001b[32m, line 5\u001b[39m\n\u001b[32m      3\u001b[39m     \u001b[38;5;28mprint\u001b[39m(\u001b[33m\"\u001b[39m\u001b[33mThis will not be printed\u001b[39m\u001b[33m\"\u001b[39m,a)\n\u001b[32m      4\u001b[39m \u001b[38;5;28;01mexcept\u001b[39;00m \u001b[38;5;167;01mException\u001b[39;00m \u001b[38;5;28;01mas\u001b[39;00m e:\n\u001b[32m----> \u001b[39m\u001b[32m5\u001b[39m     \u001b[38;5;28;01mraise\u001b[39;00m TradingBotException(e,sys)\n",
      "\u001b[31mTradingBotException\u001b[39m: Error occured in python script name [C:\\Users\\Mohan\\AppData\\Local\\Temp\\ipykernel_19088\\3076653162.py] line number [2] error message [division by zero]"
     ]
    }
   ],
   "source": [
    "try:\n",
    "    a=1/0\n",
    "    print(\"This will not be printed\",a)\n",
    "except Exception as e:\n",
    "    raise TradingBotException(e,sys)"
   ]
  },
  {
   "cell_type": "code",
   "execution_count": 14,
   "id": "3d83cbd7",
   "metadata": {},
   "outputs": [],
   "source": [
    "import logging\n",
    "import os\n",
    "from datetime import datetime"
   ]
  },
  {
   "cell_type": "code",
   "execution_count": 15,
   "id": "c0e7290b",
   "metadata": {},
   "outputs": [],
   "source": [
    "LOG_FILE = f\"{datetime.now().strftime('%m_%d_%Y_%H_%M_%S')}.log\""
   ]
  },
  {
   "cell_type": "code",
   "execution_count": 17,
   "id": "914415e5",
   "metadata": {},
   "outputs": [
    {
     "data": {
      "text/plain": [
       "'05_24_2025_11_27_19.log'"
      ]
     },
     "execution_count": 17,
     "metadata": {},
     "output_type": "execute_result"
    }
   ],
   "source": [
    "LOG_FILE"
   ]
  },
  {
   "cell_type": "code",
   "execution_count": 18,
   "id": "784351ab",
   "metadata": {},
   "outputs": [],
   "source": [
    "logs_path = os.path.join(os.getcwd(), \"logs\")"
   ]
  },
  {
   "cell_type": "code",
   "execution_count": 19,
   "id": "30103c3e",
   "metadata": {},
   "outputs": [],
   "source": [
    "os.makedirs(logs_path, exist_ok=True)"
   ]
  },
  {
   "cell_type": "code",
   "execution_count": null,
   "id": "fd619040",
   "metadata": {},
   "outputs": [],
   "source": []
  },
  {
   "cell_type": "code",
   "execution_count": null,
   "id": "fa8144a2",
   "metadata": {},
   "outputs": [],
   "source": []
  },
  {
   "cell_type": "code",
   "execution_count": null,
   "id": "27563c38",
   "metadata": {},
   "outputs": [],
   "source": []
  },
  {
   "cell_type": "code",
   "execution_count": null,
   "id": "658bcbf8",
   "metadata": {},
   "outputs": [],
   "source": []
  },
  {
   "cell_type": "code",
   "execution_count": null,
   "id": "faf9bbfa",
   "metadata": {},
   "outputs": [],
   "source": []
  },
  {
   "cell_type": "code",
   "execution_count": null,
   "id": "646ec1c1",
   "metadata": {},
   "outputs": [],
   "source": []
  },
  {
   "cell_type": "code",
   "execution_count": null,
   "id": "ff4ef42e",
   "metadata": {},
   "outputs": [],
   "source": []
  }
 ],
 "metadata": {
  "kernelspec": {
   "display_name": "Python 3",
   "language": "python",
   "name": "python3"
  },
  "language_info": {
   "codemirror_mode": {
    "name": "ipython",
    "version": 3
   },
   "file_extension": ".py",
   "mimetype": "text/x-python",
   "name": "python",
   "nbconvert_exporter": "python",
   "pygments_lexer": "ipython3",
   "version": "3.12.0"
  }
 },
 "nbformat": 4,
 "nbformat_minor": 5
}
