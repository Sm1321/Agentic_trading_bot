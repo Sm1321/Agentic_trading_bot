{
 "cells": [
  {
   "cell_type": "markdown",
   "id": "6b780f9c",
   "metadata": {},
   "source": [
    "### Dict Vs TypedDict"
   ]
  },
  {
   "cell_type": "code",
   "execution_count": 11,
   "id": "e6e74464",
   "metadata": {},
   "outputs": [
    {
     "name": "stdout",
     "output_type": "stream",
     "text": [
      "{'name': ['Alice', 10], 'age': 30, 'is_active': True}\n"
     ]
    }
   ],
   "source": [
    "user = {\n",
    "    \"name\": [\"Alice\"],\n",
    "    \"age\": 30,\n",
    "    \"is_active\": True\n",
    "}\n",
    "\n",
    "user['name'].append(10)  # ✅ Now works\n",
    "print(user)\n",
    "# {'name': ['Alice', 'Bob'], 'age': 30, 'is_active': True}\n"
   ]
  },
  {
   "cell_type": "code",
   "execution_count": 16,
   "id": "90f77069",
   "metadata": {},
   "outputs": [
    {
     "data": {
      "text/plain": [
       "{'name': 1000, 'age': 30, 'is_active': True}"
      ]
     },
     "execution_count": 16,
     "metadata": {},
     "output_type": "execute_result"
    }
   ],
   "source": [
    "from typing import TypedDict\n",
    "\n",
    "class User(TypedDict):\n",
    "    name: str\n",
    "    age: int\n",
    "    is_active: bool\n",
    "\n",
    "def greet(user: User) -> str:\n",
    "    return f\"Hello, {user['name']}!\"\n",
    "\n",
    "user_data: User = {\n",
    "    \"name\": \"Alice\",\n",
    "    \"age\": 30,\n",
    "    \"is_active\": True\n",
    "}\n",
    "\n",
    "\n",
    "user_data['name'] = 1000\n",
    "# user_data['name'].append(10) \n",
    "user_data"
   ]
  },
  {
   "cell_type": "code",
   "execution_count": null,
   "id": "228e0433",
   "metadata": {},
   "outputs": [],
   "source": []
  },
  {
   "cell_type": "code",
   "execution_count": 7,
   "id": "96b17ab2",
   "metadata": {},
   "outputs": [
    {
     "data": {
      "text/plain": [
       "User(name=1000, age=30, is_active=True)"
      ]
     },
     "execution_count": 7,
     "metadata": {},
     "output_type": "execute_result"
    }
   ],
   "source": [
    "from pydantic import BaseModel\n",
    "\n",
    "class User(BaseModel):\n",
    "    name: str\n",
    "    age: int\n",
    "    is_active: bool\n",
    "\n",
    "user = User(name=\"Alice\", age=30, is_active=True)\n",
    "user.name = 1000  # Raises ValidationError\n",
    "user"
   ]
  },
  {
   "cell_type": "code",
   "execution_count": null,
   "id": "c278034e",
   "metadata": {},
   "outputs": [],
   "source": []
  },
  {
   "cell_type": "code",
   "execution_count": null,
   "id": "ab2ad4c8",
   "metadata": {},
   "outputs": [],
   "source": []
  },
  {
   "cell_type": "code",
   "execution_count": 19,
   "id": "9c5d1aed",
   "metadata": {},
   "outputs": [
    {
     "name": "stdout",
     "output_type": "stream",
     "text": [
      "User Alice is 30 years old.\n"
     ]
    }
   ],
   "source": [
    "def print_user(user: dict) -> None:\n",
    "    print(f\"User {user['name']} is {user['age']} years old.\")\n",
    "\n",
    "user1 = {\n",
    "    \"name\": \"Alice\",\n",
    "    \"age\": 30,\n",
    "    \"is_active\": True\n",
    "}\n",
    "\n",
    "print_user(user1)\n"
   ]
  },
  {
   "cell_type": "code",
   "execution_count": 21,
   "id": "11a0335b",
   "metadata": {},
   "outputs": [
    {
     "name": "stdout",
     "output_type": "stream",
     "text": [
      "User 123 is thirty years old.\n"
     ]
    }
   ],
   "source": [
    "user2 = {\"name\": 123, \"age\": \"thirty\", \"is_active\": \"yes\"}\n",
    "print_user(user2)"
   ]
  },
  {
   "cell_type": "code",
   "execution_count": 22,
   "id": "077bbef7",
   "metadata": {},
   "outputs": [
    {
     "name": "stdout",
     "output_type": "stream",
     "text": [
      "User Alice is 30 years old.\n"
     ]
    }
   ],
   "source": [
    "from typing import TypedDict\n",
    "\n",
    "class User(TypedDict):\n",
    "    name: str\n",
    "    age: int\n",
    "    is_active: bool\n",
    "\n",
    "def print_user(user: User) -> None:\n",
    "    print(f\"User {user['name']} is {user['age']} years old.\")\n",
    "\n",
    "user1: User = {\n",
    "    \"name\": \"Alice\",\n",
    "    \"age\": 30,\n",
    "    \"is_active\": True\n",
    "}\n",
    "print_user(user1)\n"
   ]
  },
  {
   "cell_type": "code",
   "execution_count": 23,
   "id": "46e179c3",
   "metadata": {},
   "outputs": [
    {
     "name": "stdout",
     "output_type": "stream",
     "text": [
      "User 123 is thirty years old.\n"
     ]
    }
   ],
   "source": [
    "user2: User = {\n",
    "    \"name\": 123,          # ❌ wrong type\n",
    "    \"age\": \"thirty\",      # ❌ wrong type\n",
    "    \"is_active\": \"yes\"    # ❌ wrong type\n",
    "}\n",
    "print_user(user2)"
   ]
  },
  {
   "cell_type": "markdown",
   "id": "d6c1d5a4",
   "metadata": {},
   "source": [
    "### Summary\n",
    "- TypedDict helps define a \"contract\" for your data structure.\n",
    "\n",
    "- But Python doesn’t check this at runtime.\n",
    "\n",
    "- You need mypy (or similar tools) to actually enforce type correctness.\n",
    "\n",
    "- Otherwise, you're just giving your future self (or your IDE) helpful hints.`"
   ]
  },
  {
   "cell_type": "markdown",
   "id": "ae4850b6",
   "metadata": {},
   "source": [
    "### TypedDict\n",
    "\n",
    "- `TypeDict` is a way to define a dictionary in python where you specify what keys and values should exist.\n",
    "\n",
    "- It helps ensure that your dictionaty follows a specific structure\n",
    "\n",
    "#### Why use TypedDict?\n",
    "- It tells python wjat keys are required and what types of values they should have.\n",
    "- It does not validate data at runtime (it just helps with type hints for better coding) "
   ]
  },
  {
   "cell_type": "code",
   "execution_count": 32,
   "id": "6cd7a1ee",
   "metadata": {},
   "outputs": [
    {
     "name": "stdout",
     "output_type": "stream",
     "text": [
      "{'name': 'sm', 'age': 23}\n",
      "{'name': 'sm', 'age': 23, 'weight': '70kg'}\n"
     ]
    }
   ],
   "source": [
    "from typing import TypedDict, Annotated, Optional,Literal\n",
    "\n",
    "# Create a class (TypedDict)\n",
    "class Person(TypedDict):\n",
    "    name: Annotated[str, \"Give the name of the person\"]\n",
    "    age: int\n",
    "    weight: Annotated[Optional[str], \"If you know your weight, you can give it\"]\n",
    "\n",
    "# Creating a new person\n",
    "new_person: Person = {'name': 'sm', 'age': 23}\n",
    "\n",
    "# Print the person details\n",
    "print(new_person)\n",
    "new_person: Person = {'name': 'sm', 'age': 23, 'weight': '70kg'}\n",
    "# Print the person details\n",
    "print(new_person)\n"
   ]
  },
  {
   "cell_type": "code",
   "execution_count": 34,
   "id": "2f828960",
   "metadata": {},
   "outputs": [
    {
     "name": "stdout",
     "output_type": "stream",
     "text": [
      "{'name': 'sm', 'age': 23, 'answer': 'Thank you'}\n",
      "{'name': 'sm', 'age': 23, 'weight': '70kg', 'answer': 'Best Regards'}\n"
     ]
    }
   ],
   "source": [
    "import random\n",
    "from typing import TypedDict, Annotated, Optional, Literal\n",
    "\n",
    "# Create a class (TypedDict)\n",
    "class Person(TypedDict):\n",
    "    name: Annotated[str, \"Give the name of the person\"]\n",
    "    age: int\n",
    "    weight: Annotated[Optional[str], \"If you know your weight, you can give it\"]\n",
    "    answer: Annotated[Optional[str], \"This will automatically return randomly\"]  # answer is optional\n",
    "\n",
    "# Function to automatically generate an answer\n",
    "def generate_answer() -> str:\n",
    "    return random.choice(['Best Regards', 'Thank you', 'Awful'])\n",
    "\n",
    "# Creating a new person without 'answer'\n",
    "new_person: Person = {'name': 'sm', 'age': 23}\n",
    "# Automatically adding the 'answer'\n",
    "new_person['answer'] = generate_answer()\n",
    "print(new_person)\n",
    "\n",
    "# Creating a new person with 'weight' and 'answer'\n",
    "new_person: Person = {'name': 'sm', 'age': 23, 'weight': '70kg'}\n",
    "# Automatically adding the 'answer'\n",
    "new_person['answer'] = generate_answer()\n",
    "print(new_person)\n"
   ]
  },
  {
   "cell_type": "code",
   "execution_count": null,
   "id": "795d6c8b",
   "metadata": {},
   "outputs": [],
   "source": []
  },
  {
   "cell_type": "markdown",
   "id": "c971ba44",
   "metadata": {},
   "source": [
    "### Pydantic\n",
    "- Pydnatic is a datavalidation and data parsing library for Python\n",
    "- It ensures that the data you work with is correct,structured and type-safe"
   ]
  },
  {
   "cell_type": "code",
   "execution_count": 51,
   "id": "fb02bb48",
   "metadata": {},
   "outputs": [],
   "source": [
    "! pip install email-validator -q"
   ]
  },
  {
   "cell_type": "code",
   "execution_count": 52,
   "id": "fedaaaad",
   "metadata": {},
   "outputs": [
    {
     "name": "stdout",
     "output_type": "stream",
     "text": [
      "name='Mohan' age=32 email='abc@gmail.com' cgpa=5\n",
      "<class '__main__.Student'>\n",
      "------------------------------------------------------------------------------------------------------------------------------------------------------\n"
     ]
    },
    {
     "ename": "ValidationError",
     "evalue": "2 validation errors for Student\nname\n  Input should be a valid string [type=string_type, input_value=32, input_type=int]\n    For further information visit https://errors.pydantic.dev/2.11/v/string_type\nemail\n  Field required [type=missing, input_value={'name': 32}, input_type=dict]\n    For further information visit https://errors.pydantic.dev/2.11/v/missing",
     "output_type": "error",
     "traceback": [
      "\u001b[31m---------------------------------------------------------------------------\u001b[39m",
      "\u001b[31mValidationError\u001b[39m                           Traceback (most recent call last)",
      "\u001b[36mCell\u001b[39m\u001b[36m \u001b[39m\u001b[32mIn[52]\u001b[39m\u001b[32m, line 21\u001b[39m\n\u001b[32m     19\u001b[39m \u001b[38;5;66;03m#Ex2\u001b[39;00m\n\u001b[32m     20\u001b[39m new_student = {\u001b[33m'\u001b[39m\u001b[33mname\u001b[39m\u001b[33m'\u001b[39m:\u001b[32m32\u001b[39m}\n\u001b[32m---> \u001b[39m\u001b[32m21\u001b[39m student  = \u001b[43mStudent\u001b[49m\u001b[43m(\u001b[49m\u001b[43m*\u001b[49m\u001b[43m*\u001b[49m\u001b[43mnew_student\u001b[49m\u001b[43m)\u001b[49m\n\u001b[32m     22\u001b[39m \u001b[38;5;28mprint\u001b[39m(student)\n",
      "\u001b[36mFile \u001b[39m\u001b[32mc:\\MY_Folder\\MY_Courses\\5.Agentic_AI_1.0_Batch\\Code_Files\\Agentic_env\\Lib\\site-packages\\pydantic\\main.py:253\u001b[39m, in \u001b[36mBaseModel.__init__\u001b[39m\u001b[34m(self, **data)\u001b[39m\n\u001b[32m    251\u001b[39m \u001b[38;5;66;03m# `__tracebackhide__` tells pytest and some other tools to omit this function from tracebacks\u001b[39;00m\n\u001b[32m    252\u001b[39m __tracebackhide__ = \u001b[38;5;28;01mTrue\u001b[39;00m\n\u001b[32m--> \u001b[39m\u001b[32m253\u001b[39m validated_self = \u001b[38;5;28;43mself\u001b[39;49m\u001b[43m.\u001b[49m\u001b[43m__pydantic_validator__\u001b[49m\u001b[43m.\u001b[49m\u001b[43mvalidate_python\u001b[49m\u001b[43m(\u001b[49m\u001b[43mdata\u001b[49m\u001b[43m,\u001b[49m\u001b[43m \u001b[49m\u001b[43mself_instance\u001b[49m\u001b[43m=\u001b[49m\u001b[38;5;28;43mself\u001b[39;49m\u001b[43m)\u001b[49m\n\u001b[32m    254\u001b[39m \u001b[38;5;28;01mif\u001b[39;00m \u001b[38;5;28mself\u001b[39m \u001b[38;5;129;01mis\u001b[39;00m \u001b[38;5;129;01mnot\u001b[39;00m validated_self:\n\u001b[32m    255\u001b[39m     warnings.warn(\n\u001b[32m    256\u001b[39m         \u001b[33m'\u001b[39m\u001b[33mA custom validator is returning a value other than `self`.\u001b[39m\u001b[38;5;130;01m\\n\u001b[39;00m\u001b[33m'\u001b[39m\n\u001b[32m    257\u001b[39m         \u001b[33m\"\u001b[39m\u001b[33mReturning anything other than `self` from a top level model validator isn\u001b[39m\u001b[33m'\u001b[39m\u001b[33mt supported when validating via `__init__`.\u001b[39m\u001b[38;5;130;01m\\n\u001b[39;00m\u001b[33m\"\u001b[39m\n\u001b[32m    258\u001b[39m         \u001b[33m'\u001b[39m\u001b[33mSee the `model_validator` docs (https://docs.pydantic.dev/latest/concepts/validators/#model-validators) for more details.\u001b[39m\u001b[33m'\u001b[39m,\n\u001b[32m    259\u001b[39m         stacklevel=\u001b[32m2\u001b[39m,\n\u001b[32m    260\u001b[39m     )\n",
      "\u001b[31mValidationError\u001b[39m: 2 validation errors for Student\nname\n  Input should be a valid string [type=string_type, input_value=32, input_type=int]\n    For further information visit https://errors.pydantic.dev/2.11/v/string_type\nemail\n  Field required [type=missing, input_value={'name': 32}, input_type=dict]\n    For further information visit https://errors.pydantic.dev/2.11/v/missing"
     ]
    }
   ],
   "source": [
    "from pydantic import BaseModel,EmailStr ,Field\n",
    "from typing import Optional\n",
    "\n",
    "class Student(BaseModel):\n",
    "    name : str                              # Must be a string\n",
    "    age : Optional[int] = None              # Optional integer (can be omitted)\n",
    "    email: EmailStr                         # Must be a valid email\n",
    "    cgpa: float = Field(gt=0, lt=10, default=5)  # Float between 0 and 10 (not inclusive), default is 5\n",
    "\n",
    "\n",
    "\n",
    "#Ex1\n",
    "new_student = {'name':'Mohan','age':'32','email':'abc@gmail.com'} #it inplcity convert str to int\n",
    "student  = Student(**new_student)\n",
    "print(student)\n",
    "print(type(student))\n",
    "\n",
    "print('---'*50)\n",
    "#Ex2\n",
    "new_student = {'name':32}\n",
    "student  = Student(**new_student)\n",
    "print(student)"
   ]
  },
  {
   "cell_type": "code",
   "execution_count": 39,
   "id": "94c487b3",
   "metadata": {},
   "outputs": [
    {
     "name": "stdout",
     "output_type": "stream",
     "text": [
      "name='Alice' age=30 weight=0.0\n"
     ]
    }
   ],
   "source": [
    "from pydantic import BaseModel\n",
    "\n",
    "class Person(BaseModel):\n",
    "    name: str\n",
    "    age: int\n",
    "    weight: float = 0.0  # Optional with default\n",
    "\n",
    "person = Person(name=\"Alice\", age=\"30\")  # Automatically converts age from str to int\n",
    "print(person)\n"
   ]
  },
  {
   "cell_type": "code",
   "execution_count": null,
   "id": "0aaaa71f",
   "metadata": {},
   "outputs": [
    {
     "ename": "ValidationError",
     "evalue": "1 validation error for Person\nage\n  Input should be a valid integer, unable to parse string as an integer [type=int_parsing, input_value='thirty', input_type=str]\n    For further information visit https://errors.pydantic.dev/2.11/v/int_parsing",
     "output_type": "error",
     "traceback": [
      "\u001b[31m---------------------------------------------------------------------------\u001b[39m",
      "\u001b[31mValidationError\u001b[39m                           Traceback (most recent call last)",
      "\u001b[36mCell\u001b[39m\u001b[36m \u001b[39m\u001b[32mIn[40]\u001b[39m\u001b[32m, line 1\u001b[39m\n\u001b[32m----> \u001b[39m\u001b[32m1\u001b[39m \u001b[43mPerson\u001b[49m\u001b[43m(\u001b[49m\u001b[43mname\u001b[49m\u001b[43m=\u001b[49m\u001b[33;43m\"\u001b[39;49m\u001b[33;43mBob\u001b[39;49m\u001b[33;43m\"\u001b[39;49m\u001b[43m,\u001b[49m\u001b[43m \u001b[49m\u001b[43mage\u001b[49m\u001b[43m=\u001b[49m\u001b[33;43m\"\u001b[39;49m\u001b[33;43mthirty\u001b[39;49m\u001b[33;43m\"\u001b[39;49m\u001b[43m)\u001b[49m\n",
      "\u001b[36mFile \u001b[39m\u001b[32mc:\\MY_Folder\\MY_Courses\\5.Agentic_AI_1.0_Batch\\Code_Files\\Agentic_env\\Lib\\site-packages\\pydantic\\main.py:253\u001b[39m, in \u001b[36mBaseModel.__init__\u001b[39m\u001b[34m(self, **data)\u001b[39m\n\u001b[32m    251\u001b[39m \u001b[38;5;66;03m# `__tracebackhide__` tells pytest and some other tools to omit this function from tracebacks\u001b[39;00m\n\u001b[32m    252\u001b[39m __tracebackhide__ = \u001b[38;5;28;01mTrue\u001b[39;00m\n\u001b[32m--> \u001b[39m\u001b[32m253\u001b[39m validated_self = \u001b[38;5;28;43mself\u001b[39;49m\u001b[43m.\u001b[49m\u001b[43m__pydantic_validator__\u001b[49m\u001b[43m.\u001b[49m\u001b[43mvalidate_python\u001b[49m\u001b[43m(\u001b[49m\u001b[43mdata\u001b[49m\u001b[43m,\u001b[49m\u001b[43m \u001b[49m\u001b[43mself_instance\u001b[49m\u001b[43m=\u001b[49m\u001b[38;5;28;43mself\u001b[39;49m\u001b[43m)\u001b[49m\n\u001b[32m    254\u001b[39m \u001b[38;5;28;01mif\u001b[39;00m \u001b[38;5;28mself\u001b[39m \u001b[38;5;129;01mis\u001b[39;00m \u001b[38;5;129;01mnot\u001b[39;00m validated_self:\n\u001b[32m    255\u001b[39m     warnings.warn(\n\u001b[32m    256\u001b[39m         \u001b[33m'\u001b[39m\u001b[33mA custom validator is returning a value other than `self`.\u001b[39m\u001b[38;5;130;01m\\n\u001b[39;00m\u001b[33m'\u001b[39m\n\u001b[32m    257\u001b[39m         \u001b[33m\"\u001b[39m\u001b[33mReturning anything other than `self` from a top level model validator isn\u001b[39m\u001b[33m'\u001b[39m\u001b[33mt supported when validating via `__init__`.\u001b[39m\u001b[38;5;130;01m\\n\u001b[39;00m\u001b[33m\"\u001b[39m\n\u001b[32m    258\u001b[39m         \u001b[33m'\u001b[39m\u001b[33mSee the `model_validator` docs (https://docs.pydantic.dev/latest/concepts/validators/#model-validators) for more details.\u001b[39m\u001b[33m'\u001b[39m,\n\u001b[32m    259\u001b[39m         stacklevel=\u001b[32m2\u001b[39m,\n\u001b[32m    260\u001b[39m     )\n",
      "\u001b[31mValidationError\u001b[39m: 1 validation error for Person\nage\n  Input should be a valid integer, unable to parse string as an integer [type=int_parsing, input_value='thirty', input_type=str]\n    For further information visit https://errors.pydantic.dev/2.11/v/int_parsing"
     ]
    }
   ],
   "source": [
    "Person(name=\"Bob\", age=\"thirty\") #Pydantic throws Error"
   ]
  },
  {
   "cell_type": "markdown",
   "id": "b264a76a",
   "metadata": {},
   "source": [
    "### ✅ Key Features of pydantic\n",
    "- Runtime type checking and validation\n",
    "\n",
    "- Automatic type coercion\n",
    "\n",
    "- Detailed error messages\n",
    "\n",
    "- Support for nested models, Optional, default values, etc."
   ]
  },
  {
   "cell_type": "code",
   "execution_count": null,
   "id": "e3a5f33c",
   "metadata": {},
   "outputs": [],
   "source": []
  }
 ],
 "metadata": {
  "kernelspec": {
   "display_name": "Python 3",
   "language": "python",
   "name": "python3"
  },
  "language_info": {
   "codemirror_mode": {
    "name": "ipython",
    "version": 3
   },
   "file_extension": ".py",
   "mimetype": "text/x-python",
   "name": "python",
   "nbconvert_exporter": "python",
   "pygments_lexer": "ipython3",
   "version": "3.12.0"
  }
 },
 "nbformat": 4,
 "nbformat_minor": 5
}
